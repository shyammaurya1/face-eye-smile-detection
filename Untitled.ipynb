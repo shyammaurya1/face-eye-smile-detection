{
 "cells": [
  {
   "cell_type": "code",
   "execution_count": null,
   "metadata": {},
   "outputs": [
    {
     "name": "stdout",
     "output_type": "stream",
     "text": [
      "training...\n",
      "abc\n",
      "shyam\n",
      "suraj\n"
     ]
    }
   ],
   "source": [
    "import numpy\n",
    "import os \n",
    "import cv2 \n",
    "import time\n",
    "datasets = \"faces\"\n",
    "size = 4\n",
    "# haar_file = 'haarcascade_frontalface_default.xml'\n",
    "haar_file='haarcascade_righteye_2splits.xml'\n",
    "print('training...')\n",
    "\n",
    "(images,lables,names,id)=([],[],{},0)\n",
    "\n",
    "for (subdirs,dirs,files) in  os.walk(datasets):\n",
    "    for subdir in dirs:\n",
    "        names[id] = subdir\n",
    "        print(names[id])\n",
    "        \n",
    "        subjectpath = os.path.join(datasets,subdir)\n",
    "        for filename in os.listdir(subjectpath):\n",
    "            path = subjectpath + '/' + filename\n",
    "            lable = id\n",
    "            images.append(cv2.imread(path,0)) #image is gray scale hence 0\n",
    "            lables.append(int(lable))\n",
    "        id +=1\n",
    "(images,lables) = [numpy.array(lis) for  lis in [images,lables]]\n",
    "model = cv2.face.LBPHFaceRecognizer_create()\n",
    "model.train(images,lables)\n",
    "face_cascade = cv2.CascadeClassifier(haar_file)\n",
    "\n",
    "(images,lables),names = (images,lables),names\n",
    "\n",
    "camera = cv2.VideoCapture(0) #this make a web cam object\n",
    "while True:\n",
    "    retval, im = camera.read()\n",
    "    gray = cv2.cvtColor(im , cv2.COLOR_BGR2GRAY)\n",
    "    faces = face_cascade.detectMultiScale(gray,1.3,5)\n",
    "    for (x,y,w,h) in faces:\n",
    "        cv2.rectangle(im,(x,y),(x+w,y+h),(255,0,0),2)\n",
    "        face =  gray[y:y+h,x:x+w]\n",
    "        face_resize = cv2.resize(face,(130,100))\n",
    "        prediction = model.predict(face_resize)\n",
    "        cv2.rectangle(im,(x,y),(x+w,y+h),(0,255,0),3)\n",
    "        if prediction[1]<90:\n",
    "            cv2.putText(im,'%s %.0f' %(names[prediction[0]],prediction[1]),(x-10,y-10),cv2.FONT_HERSHEY_PLAIN,1,(0,255,0))\n",
    "        else:\n",
    "            cv2.putText(im,'Not Recognize',(x-10,y-10),cv2.FONT_HERSHEY_PLAIN,1,(0,255,0))\n",
    "            \n",
    "    cv2.imshow('img',im)\n",
    "    if cv2.waitKey(1) & 0xFF == ord('q'):\n",
    "        break\n",
    "        \n",
    "camera.release()\n",
    "cv2.destroyAllWindows()"
   ]
  },
  {
   "cell_type": "code",
   "execution_count": null,
   "metadata": {},
   "outputs": [],
   "source": []
  }
 ],
 "metadata": {
  "kernelspec": {
   "display_name": "Python 3",
   "language": "python",
   "name": "python3"
  },
  "language_info": {
   "codemirror_mode": {
    "name": "ipython",
    "version": 3
   },
   "file_extension": ".py",
   "mimetype": "text/x-python",
   "name": "python",
   "nbconvert_exporter": "python",
   "pygments_lexer": "ipython3",
   "version": "3.7.4"
  }
 },
 "nbformat": 4,
 "nbformat_minor": 2
}
